{
 "cells": [
  {
   "cell_type": "code",
   "execution_count": 1,
   "id": "9b6b7079",
   "metadata": {},
   "outputs": [
    {
     "name": "stderr",
     "output_type": "stream",
     "text": [
      "Warning message in install.packages(\"syuzhet\"):\n",
      "\"'lib = \"C:/Program Files/R/R-4.1.1/library\"' is not writable\"\n"
     ]
    },
    {
     "ename": "ERROR",
     "evalue": "Error in install.packages(\"syuzhet\"): unable to install packages\n",
     "output_type": "error",
     "traceback": [
      "Error in install.packages(\"syuzhet\"): unable to install packages\nTraceback:\n",
      "1. install.packages(\"syuzhet\")",
      "2. stop(\"unable to install packages\")"
     ]
    }
   ],
   "source": [
    "install.packages('syuzhet')"
   ]
  },
  {
   "cell_type": "code",
   "execution_count": 2,
   "id": "96e5b608",
   "metadata": {},
   "outputs": [],
   "source": [
    "library(syuzhet)"
   ]
  },
  {
   "cell_type": "code",
   "execution_count": 3,
   "id": "f23c1a12",
   "metadata": {},
   "outputs": [
    {
     "data": {
      "text/html": [
       "<table class=\"dataframe\">\n",
       "<caption>A data.frame: 6 × 36</caption>\n",
       "<thead>\n",
       "\t<tr><th></th><th scope=col>id</th><th scope=col>conversation_id</th><th scope=col>created_at</th><th scope=col>date</th><th scope=col>time</th><th scope=col>timezone</th><th scope=col>user_id</th><th scope=col>username</th><th scope=col>name</th><th scope=col>place</th><th scope=col>...</th><th scope=col>geo</th><th scope=col>source</th><th scope=col>user_rt_id</th><th scope=col>user_rt</th><th scope=col>retweet_id</th><th scope=col>reply_to</th><th scope=col>retweet_date</th><th scope=col>translate</th><th scope=col>trans_src</th><th scope=col>trans_dest</th></tr>\n",
       "\t<tr><th></th><th scope=col>&lt;chr&gt;</th><th scope=col>&lt;chr&gt;</th><th scope=col>&lt;chr&gt;</th><th scope=col>&lt;chr&gt;</th><th scope=col>&lt;chr&gt;</th><th scope=col>&lt;chr&gt;</th><th scope=col>&lt;chr&gt;</th><th scope=col>&lt;chr&gt;</th><th scope=col>&lt;chr&gt;</th><th scope=col>&lt;chr&gt;</th><th scope=col>...</th><th scope=col>&lt;chr&gt;</th><th scope=col>&lt;chr&gt;</th><th scope=col>&lt;chr&gt;</th><th scope=col>&lt;chr&gt;</th><th scope=col>&lt;chr&gt;</th><th scope=col>&lt;chr&gt;</th><th scope=col>&lt;chr&gt;</th><th scope=col>&lt;chr&gt;</th><th scope=col>&lt;chr&gt;</th><th scope=col>&lt;chr&gt;</th></tr>\n",
       "</thead>\n",
       "<tbody>\n",
       "\t<tr><th scope=row>1</th><td>1084599599837442050</td><td>1084598585654685696</td><td>2019-01-13 20:54:30 -03</td><td>2019-01-13</td><td>20:54:30</td><td>-300</td><td>2663964890        </td><td>nelsonrabat    </td><td>nelson rabat lemos          </td><td></td><td>...</td><td></td><td></td><td></td><td></td><td></td><td>[{'screen_name': 'FotosDeFatos', 'name': 'Fotos de Fatos', 'id': '2959459379'}]</td><td></td><td></td><td></td><td></td></tr>\n",
       "\t<tr><th scope=row>2</th><td>1084554086836514818</td><td>1084554086836514818</td><td>2019-01-13 17:53:38 -03</td><td>2019-01-13</td><td>17:53:38</td><td>-300</td><td>921801127322152961</td><td>_____insight   </td><td>G.                          </td><td></td><td>...</td><td></td><td></td><td></td><td></td><td></td><td>[]                                                                             </td><td></td><td></td><td></td><td></td></tr>\n",
       "\t<tr><th scope=row>3</th><td>1084543866341081088</td><td>1084543866341081088</td><td>2019-01-13 17:13:02 -03</td><td>2019-01-13</td><td>17:13:02</td><td>-300</td><td>4497684585        </td><td>maiconob45     </td><td>Maicon Mauricio             </td><td></td><td>...</td><td></td><td></td><td></td><td></td><td></td><td>[]                                                                             </td><td></td><td></td><td></td><td></td></tr>\n",
       "\t<tr><th scope=row>4</th><td>1084542696197406722</td><td>1084542696197406722</td><td>2019-01-13 17:08:23 -03</td><td>2019-01-13</td><td>17:08:23</td><td>-300</td><td>773569207183212546</td><td>marinacomh     </td><td>marih ðŸ‡§ðŸ‡·              </td><td></td><td>...</td><td></td><td></td><td></td><td></td><td></td><td>[]                                                                             </td><td></td><td></td><td></td><td></td></tr>\n",
       "\t<tr><th scope=row>5</th><td>1084522334344613888</td><td>1084522334344613888</td><td>2019-01-13 15:47:28 -03</td><td>2019-01-13</td><td>15:47:28</td><td>-300</td><td>541156738         </td><td>mariluparreiras</td><td>#LulaRousseff #ComLulaEm2022</td><td></td><td>...</td><td></td><td></td><td></td><td></td><td></td><td>[]                                                                             </td><td></td><td></td><td></td><td></td></tr>\n",
       "\t<tr><th scope=row>6</th><td>1084521900389294080</td><td>1084521900389294080</td><td>2019-01-13 15:45:45 -03</td><td>2019-01-13</td><td>15:45:45</td><td>-300</td><td>541156738         </td><td>mariluparreiras</td><td>#LulaRousseff #ComLulaEm2022</td><td></td><td>...</td><td></td><td></td><td></td><td></td><td></td><td>[]                                                                             </td><td></td><td></td><td></td><td></td></tr>\n",
       "</tbody>\n",
       "</table>\n"
      ],
      "text/latex": [
       "A data.frame: 6 × 36\n",
       "\\begin{tabular}{r|lllllllllllllllllllll}\n",
       "  & id & conversation\\_id & created\\_at & date & time & timezone & user\\_id & username & name & place & ... & geo & source & user\\_rt\\_id & user\\_rt & retweet\\_id & reply\\_to & retweet\\_date & translate & trans\\_src & trans\\_dest\\\\\n",
       "  & <chr> & <chr> & <chr> & <chr> & <chr> & <chr> & <chr> & <chr> & <chr> & <chr> & ... & <chr> & <chr> & <chr> & <chr> & <chr> & <chr> & <chr> & <chr> & <chr> & <chr>\\\\\n",
       "\\hline\n",
       "\t1 & 1084599599837442050 & 1084598585654685696 & 2019-01-13 20:54:30 -03 & 2019-01-13 & 20:54:30 & -300 & 2663964890         & nelsonrabat     & nelson rabat lemos           &  & ... &  &  &  &  &  & {[}\\{'screen\\_name': 'FotosDeFatos', 'name': 'Fotos de Fatos', 'id': '2959459379'\\}{]} &  &  &  & \\\\\n",
       "\t2 & 1084554086836514818 & 1084554086836514818 & 2019-01-13 17:53:38 -03 & 2019-01-13 & 17:53:38 & -300 & 921801127322152961 & \\_\\_\\_\\_\\_insight    & G.                           &  & ... &  &  &  &  &  & {[}{]}                                                                              &  &  &  & \\\\\n",
       "\t3 & 1084543866341081088 & 1084543866341081088 & 2019-01-13 17:13:02 -03 & 2019-01-13 & 17:13:02 & -300 & 4497684585         & maiconob45      & Maicon Mauricio              &  & ... &  &  &  &  &  & {[}{]}                                                                              &  &  &  & \\\\\n",
       "\t4 & 1084542696197406722 & 1084542696197406722 & 2019-01-13 17:08:23 -03 & 2019-01-13 & 17:08:23 & -300 & 773569207183212546 & marinacomh      & marih ðŸ‡§ðŸ‡·               &  & ... &  &  &  &  &  & {[}{]}                                                                              &  &  &  & \\\\\n",
       "\t5 & 1084522334344613888 & 1084522334344613888 & 2019-01-13 15:47:28 -03 & 2019-01-13 & 15:47:28 & -300 & 541156738          & mariluparreiras & \\#LulaRousseff \\#ComLulaEm2022 &  & ... &  &  &  &  &  & {[}{]}                                                                              &  &  &  & \\\\\n",
       "\t6 & 1084521900389294080 & 1084521900389294080 & 2019-01-13 15:45:45 -03 & 2019-01-13 & 15:45:45 & -300 & 541156738          & mariluparreiras & \\#LulaRousseff \\#ComLulaEm2022 &  & ... &  &  &  &  &  & {[}{]}                                                                              &  &  &  & \\\\\n",
       "\\end{tabular}\n"
      ],
      "text/markdown": [
       "\n",
       "A data.frame: 6 × 36\n",
       "\n",
       "| <!--/--> | id &lt;chr&gt; | conversation_id &lt;chr&gt; | created_at &lt;chr&gt; | date &lt;chr&gt; | time &lt;chr&gt; | timezone &lt;chr&gt; | user_id &lt;chr&gt; | username &lt;chr&gt; | name &lt;chr&gt; | place &lt;chr&gt; | ... ... | geo &lt;chr&gt; | source &lt;chr&gt; | user_rt_id &lt;chr&gt; | user_rt &lt;chr&gt; | retweet_id &lt;chr&gt; | reply_to &lt;chr&gt; | retweet_date &lt;chr&gt; | translate &lt;chr&gt; | trans_src &lt;chr&gt; | trans_dest &lt;chr&gt; |\n",
       "|---|---|---|---|---|---|---|---|---|---|---|---|---|---|---|---|---|---|---|---|---|---|\n",
       "| 1 | 1084599599837442050 | 1084598585654685696 | 2019-01-13 20:54:30 -03 | 2019-01-13 | 20:54:30 | -300 | 2663964890         | nelsonrabat     | nelson rabat lemos           | <!----> | ... | <!----> | <!----> | <!----> | <!----> | <!----> | [{'screen_name': 'FotosDeFatos', 'name': 'Fotos de Fatos', 'id': '2959459379'}] | <!----> | <!----> | <!----> | <!----> |\n",
       "| 2 | 1084554086836514818 | 1084554086836514818 | 2019-01-13 17:53:38 -03 | 2019-01-13 | 17:53:38 | -300 | 921801127322152961 | _____insight    | G.                           | <!----> | ... | <!----> | <!----> | <!----> | <!----> | <!----> | []                                                                              | <!----> | <!----> | <!----> | <!----> |\n",
       "| 3 | 1084543866341081088 | 1084543866341081088 | 2019-01-13 17:13:02 -03 | 2019-01-13 | 17:13:02 | -300 | 4497684585         | maiconob45      | Maicon Mauricio              | <!----> | ... | <!----> | <!----> | <!----> | <!----> | <!----> | []                                                                              | <!----> | <!----> | <!----> | <!----> |\n",
       "| 4 | 1084542696197406722 | 1084542696197406722 | 2019-01-13 17:08:23 -03 | 2019-01-13 | 17:08:23 | -300 | 773569207183212546 | marinacomh      | marih ðŸ‡§ðŸ‡·               | <!----> | ... | <!----> | <!----> | <!----> | <!----> | <!----> | []                                                                              | <!----> | <!----> | <!----> | <!----> |\n",
       "| 5 | 1084522334344613888 | 1084522334344613888 | 2019-01-13 15:47:28 -03 | 2019-01-13 | 15:47:28 | -300 | 541156738          | mariluparreiras | #LulaRousseff #ComLulaEm2022 | <!----> | ... | <!----> | <!----> | <!----> | <!----> | <!----> | []                                                                              | <!----> | <!----> | <!----> | <!----> |\n",
       "| 6 | 1084521900389294080 | 1084521900389294080 | 2019-01-13 15:45:45 -03 | 2019-01-13 | 15:45:45 | -300 | 541156738          | mariluparreiras | #LulaRousseff #ComLulaEm2022 | <!----> | ... | <!----> | <!----> | <!----> | <!----> | <!----> | []                                                                              | <!----> | <!----> | <!----> | <!----> |\n",
       "\n"
      ],
      "text/plain": [
       "  id                  conversation_id     created_at              date      \n",
       "1 1084599599837442050 1084598585654685696 2019-01-13 20:54:30 -03 2019-01-13\n",
       "2 1084554086836514818 1084554086836514818 2019-01-13 17:53:38 -03 2019-01-13\n",
       "3 1084543866341081088 1084543866341081088 2019-01-13 17:13:02 -03 2019-01-13\n",
       "4 1084542696197406722 1084542696197406722 2019-01-13 17:08:23 -03 2019-01-13\n",
       "5 1084522334344613888 1084522334344613888 2019-01-13 15:47:28 -03 2019-01-13\n",
       "6 1084521900389294080 1084521900389294080 2019-01-13 15:45:45 -03 2019-01-13\n",
       "  time     timezone user_id            username       \n",
       "1 20:54:30 -300     2663964890         nelsonrabat    \n",
       "2 17:53:38 -300     921801127322152961 _____insight   \n",
       "3 17:13:02 -300     4497684585         maiconob45     \n",
       "4 17:08:23 -300     773569207183212546 marinacomh     \n",
       "5 15:47:28 -300     541156738          mariluparreiras\n",
       "6 15:45:45 -300     541156738          mariluparreiras\n",
       "  name                         place ... geo source user_rt_id user_rt\n",
       "1 nelson rabat lemos                 ...                              \n",
       "2 G.                                 ...                              \n",
       "3 Maicon Mauricio                    ...                              \n",
       "4 marih ðŸ‡§ðŸ‡·                     ...                              \n",
       "5 #LulaRousseff #ComLulaEm2022       ...                              \n",
       "6 #LulaRousseff #ComLulaEm2022       ...                              \n",
       "  retweet_id\n",
       "1           \n",
       "2           \n",
       "3           \n",
       "4           \n",
       "5           \n",
       "6           \n",
       "  reply_to                                                                       \n",
       "1 [{'screen_name': 'FotosDeFatos', 'name': 'Fotos de Fatos', 'id': '2959459379'}]\n",
       "2 []                                                                             \n",
       "3 []                                                                             \n",
       "4 []                                                                             \n",
       "5 []                                                                             \n",
       "6 []                                                                             \n",
       "  retweet_date translate trans_src trans_dest\n",
       "1                                            \n",
       "2                                            \n",
       "3                                            \n",
       "4                                            \n",
       "5                                            \n",
       "6                                            "
      ]
     },
     "metadata": {},
     "output_type": "display_data"
    }
   ],
   "source": [
    "# tweets = read.csv(file = \"datasets/database_completa/tweets_amazonia_grilagem.csv\", sep = \"\\t\")\n",
    "tweets = read.csv(file = \"datasets/complete_db_unclassified.csv\", sep = \",\", colClasses=c('character'))\n",
    "head(tweets)"
   ]
  },
  {
   "cell_type": "code",
   "execution_count": 4,
   "id": "3add1644",
   "metadata": {},
   "outputs": [
    {
     "data": {
      "text/plain": [
       "      id            conversation_id     created_at            date          \n",
       " Length:252437      Length:252437      Length:252437      Length:252437     \n",
       " Class :character   Class :character   Class :character   Class :character  \n",
       " Mode  :character   Mode  :character   Mode  :character   Mode  :character  \n",
       "     time             timezone           user_id            username        \n",
       " Length:252437      Length:252437      Length:252437      Length:252437     \n",
       " Class :character   Class :character   Class :character   Class :character  \n",
       " Mode  :character   Mode  :character   Mode  :character   Mode  :character  \n",
       "     name              place              tweet             language        \n",
       " Length:252437      Length:252437      Length:252437      Length:252437     \n",
       " Class :character   Class :character   Class :character   Class :character  \n",
       " Mode  :character   Mode  :character   Mode  :character   Mode  :character  \n",
       "   mentions             urls              photos          replies_count     \n",
       " Length:252437      Length:252437      Length:252437      Length:252437     \n",
       " Class :character   Class :character   Class :character   Class :character  \n",
       " Mode  :character   Mode  :character   Mode  :character   Mode  :character  \n",
       " retweets_count     likes_count          hashtags           cashtags        \n",
       " Length:252437      Length:252437      Length:252437      Length:252437     \n",
       " Class :character   Class :character   Class :character   Class :character  \n",
       " Mode  :character   Mode  :character   Mode  :character   Mode  :character  \n",
       "     link             retweet           quote_url            video          \n",
       " Length:252437      Length:252437      Length:252437      Length:252437     \n",
       " Class :character   Class :character   Class :character   Class :character  \n",
       " Mode  :character   Mode  :character   Mode  :character   Mode  :character  \n",
       "  thumbnail             near               geo               source         \n",
       " Length:252437      Length:252437      Length:252437      Length:252437     \n",
       " Class :character   Class :character   Class :character   Class :character  \n",
       " Mode  :character   Mode  :character   Mode  :character   Mode  :character  \n",
       "  user_rt_id          user_rt           retweet_id          reply_to        \n",
       " Length:252437      Length:252437      Length:252437      Length:252437     \n",
       " Class :character   Class :character   Class :character   Class :character  \n",
       " Mode  :character   Mode  :character   Mode  :character   Mode  :character  \n",
       " retweet_date        translate          trans_src          trans_dest       \n",
       " Length:252437      Length:252437      Length:252437      Length:252437     \n",
       " Class :character   Class :character   Class :character   Class :character  \n",
       " Mode  :character   Mode  :character   Mode  :character   Mode  :character  "
      ]
     },
     "metadata": {},
     "output_type": "display_data"
    }
   ],
   "source": [
    "summary(tweets)"
   ]
  },
  {
   "cell_type": "code",
   "execution_count": 5,
   "id": "46fd2069",
   "metadata": {},
   "outputs": [
    {
     "data": {
      "text/html": [
       "<style>\n",
       ".list-inline {list-style: none; margin:0; padding: 0}\n",
       ".list-inline>li {display: inline-block}\n",
       ".list-inline>li:not(:last-child)::after {content: \"\\00b7\"; padding: 0 .5ex}\n",
       "</style>\n",
       "<ol class=list-inline><li>'id'</li><li>'conversation_id'</li><li>'created_at'</li><li>'date'</li><li>'time'</li><li>'timezone'</li><li>'user_id'</li><li>'username'</li><li>'name'</li><li>'place'</li><li>'tweet'</li><li>'language'</li><li>'mentions'</li><li>'urls'</li><li>'photos'</li><li>'replies_count'</li><li>'retweets_count'</li><li>'likes_count'</li><li>'hashtags'</li><li>'cashtags'</li><li>'link'</li><li>'retweet'</li><li>'quote_url'</li><li>'video'</li><li>'thumbnail'</li><li>'near'</li><li>'geo'</li><li>'source'</li><li>'user_rt_id'</li><li>'user_rt'</li><li>'retweet_id'</li><li>'reply_to'</li><li>'retweet_date'</li><li>'translate'</li><li>'trans_src'</li><li>'trans_dest'</li></ol>\n"
      ],
      "text/latex": [
       "\\begin{enumerate*}\n",
       "\\item 'id'\n",
       "\\item 'conversation\\_id'\n",
       "\\item 'created\\_at'\n",
       "\\item 'date'\n",
       "\\item 'time'\n",
       "\\item 'timezone'\n",
       "\\item 'user\\_id'\n",
       "\\item 'username'\n",
       "\\item 'name'\n",
       "\\item 'place'\n",
       "\\item 'tweet'\n",
       "\\item 'language'\n",
       "\\item 'mentions'\n",
       "\\item 'urls'\n",
       "\\item 'photos'\n",
       "\\item 'replies\\_count'\n",
       "\\item 'retweets\\_count'\n",
       "\\item 'likes\\_count'\n",
       "\\item 'hashtags'\n",
       "\\item 'cashtags'\n",
       "\\item 'link'\n",
       "\\item 'retweet'\n",
       "\\item 'quote\\_url'\n",
       "\\item 'video'\n",
       "\\item 'thumbnail'\n",
       "\\item 'near'\n",
       "\\item 'geo'\n",
       "\\item 'source'\n",
       "\\item 'user\\_rt\\_id'\n",
       "\\item 'user\\_rt'\n",
       "\\item 'retweet\\_id'\n",
       "\\item 'reply\\_to'\n",
       "\\item 'retweet\\_date'\n",
       "\\item 'translate'\n",
       "\\item 'trans\\_src'\n",
       "\\item 'trans\\_dest'\n",
       "\\end{enumerate*}\n"
      ],
      "text/markdown": [
       "1. 'id'\n",
       "2. 'conversation_id'\n",
       "3. 'created_at'\n",
       "4. 'date'\n",
       "5. 'time'\n",
       "6. 'timezone'\n",
       "7. 'user_id'\n",
       "8. 'username'\n",
       "9. 'name'\n",
       "10. 'place'\n",
       "11. 'tweet'\n",
       "12. 'language'\n",
       "13. 'mentions'\n",
       "14. 'urls'\n",
       "15. 'photos'\n",
       "16. 'replies_count'\n",
       "17. 'retweets_count'\n",
       "18. 'likes_count'\n",
       "19. 'hashtags'\n",
       "20. 'cashtags'\n",
       "21. 'link'\n",
       "22. 'retweet'\n",
       "23. 'quote_url'\n",
       "24. 'video'\n",
       "25. 'thumbnail'\n",
       "26. 'near'\n",
       "27. 'geo'\n",
       "28. 'source'\n",
       "29. 'user_rt_id'\n",
       "30. 'user_rt'\n",
       "31. 'retweet_id'\n",
       "32. 'reply_to'\n",
       "33. 'retweet_date'\n",
       "34. 'translate'\n",
       "35. 'trans_src'\n",
       "36. 'trans_dest'\n",
       "\n",
       "\n"
      ],
      "text/plain": [
       " [1] \"id\"              \"conversation_id\" \"created_at\"      \"date\"           \n",
       " [5] \"time\"            \"timezone\"        \"user_id\"         \"username\"       \n",
       " [9] \"name\"            \"place\"           \"tweet\"           \"language\"       \n",
       "[13] \"mentions\"        \"urls\"            \"photos\"          \"replies_count\"  \n",
       "[17] \"retweets_count\"  \"likes_count\"     \"hashtags\"        \"cashtags\"       \n",
       "[21] \"link\"            \"retweet\"         \"quote_url\"       \"video\"          \n",
       "[25] \"thumbnail\"       \"near\"            \"geo\"             \"source\"         \n",
       "[29] \"user_rt_id\"      \"user_rt\"         \"retweet_id\"      \"reply_to\"       \n",
       "[33] \"retweet_date\"    \"translate\"       \"trans_src\"       \"trans_dest\"     "
      ]
     },
     "metadata": {},
     "output_type": "display_data"
    }
   ],
   "source": [
    "colnames(tweets)"
   ]
  },
  {
   "cell_type": "code",
   "execution_count": 6,
   "id": "4f3336dc",
   "metadata": {},
   "outputs": [],
   "source": [
    "get_sentiment <- function(text_listf, title=\"Sentimentos\"){\n",
    "  s <- get_nrc_sentiment(text_listf, language = \"portuguese\")\n",
    "  s$neutral <- (s$positive == s$negative) > 0\n",
    "  s$positive <- (s$positive > s$negative) > 0\n",
    "  s$negative <- (s$positive == 0 & s$neutral == 0) > 0\n",
    "  colnames(s) <- sent_labels \n",
    "  return(s)\n",
    "} "
   ]
  },
  {
   "cell_type": "code",
   "execution_count": 7,
   "id": "cf0b2d15",
   "metadata": {},
   "outputs": [],
   "source": [
    "get_labels <- function(sentiment){\n",
    "  aux <- sentiment\n",
    "  aux$label <- \"Neutro\"\n",
    "  aux[aux$Negativo == 1,]$label <- \"Negativo\"\n",
    "  aux[aux$Positivo == 1,]$label <- \"Positivo\"\n",
    "  return(aux$label)\n",
    "} "
   ]
  },
  {
   "cell_type": "code",
   "execution_count": 8,
   "id": "9ac65de0",
   "metadata": {},
   "outputs": [],
   "source": [
    "ntweets <- 2500"
   ]
  },
  {
   "cell_type": "code",
   "execution_count": 9,
   "id": "ac9f4115",
   "metadata": {},
   "outputs": [],
   "source": [
    "sent_labels <- c(\"Raiva\", \"Antecipação\", \"Nojo\", \"Medo\", \"Alegria\", \n",
    "\"Tristeza\", \"Surpesa\", \"Confiança\", \"Negativo\", \"Positivo\", \"Neutro\")"
   ]
  },
  {
   "cell_type": "code",
   "execution_count": 10,
   "id": "934a0c6f",
   "metadata": {},
   "outputs": [],
   "source": [
    "tweets[c(\"sentiment\")] <- lapply(tweets[c('tweet')], get_sentiment)"
   ]
  },
  {
   "cell_type": "code",
   "execution_count": 11,
   "id": "436d1352",
   "metadata": {},
   "outputs": [
    {
     "data": {
      "text/plain": [
       "      id            conversation_id     created_at            date          \n",
       " Length:252437      Length:252437      Length:252437      Length:252437     \n",
       " Class :character   Class :character   Class :character   Class :character  \n",
       " Mode  :character   Mode  :character   Mode  :character   Mode  :character  \n",
       "                                                                            \n",
       "                                                                            \n",
       "                                                                            \n",
       "     time             timezone           user_id            username        \n",
       " Length:252437      Length:252437      Length:252437      Length:252437     \n",
       " Class :character   Class :character   Class :character   Class :character  \n",
       " Mode  :character   Mode  :character   Mode  :character   Mode  :character  \n",
       "                                                                            \n",
       "                                                                            \n",
       "                                                                            \n",
       "     name              place              tweet             language        \n",
       " Length:252437      Length:252437      Length:252437      Length:252437     \n",
       " Class :character   Class :character   Class :character   Class :character  \n",
       " Mode  :character   Mode  :character   Mode  :character   Mode  :character  \n",
       "                                                                            \n",
       "                                                                            \n",
       "                                                                            \n",
       "   mentions             urls              photos          replies_count     \n",
       " Length:252437      Length:252437      Length:252437      Length:252437     \n",
       " Class :character   Class :character   Class :character   Class :character  \n",
       " Mode  :character   Mode  :character   Mode  :character   Mode  :character  \n",
       "                                                                            \n",
       "                                                                            \n",
       "                                                                            \n",
       " retweets_count     likes_count          hashtags           cashtags        \n",
       " Length:252437      Length:252437      Length:252437      Length:252437     \n",
       " Class :character   Class :character   Class :character   Class :character  \n",
       " Mode  :character   Mode  :character   Mode  :character   Mode  :character  \n",
       "                                                                            \n",
       "                                                                            \n",
       "                                                                            \n",
       "     link             retweet           quote_url            video          \n",
       " Length:252437      Length:252437      Length:252437      Length:252437     \n",
       " Class :character   Class :character   Class :character   Class :character  \n",
       " Mode  :character   Mode  :character   Mode  :character   Mode  :character  \n",
       "                                                                            \n",
       "                                                                            \n",
       "                                                                            \n",
       "  thumbnail             near               geo               source         \n",
       " Length:252437      Length:252437      Length:252437      Length:252437     \n",
       " Class :character   Class :character   Class :character   Class :character  \n",
       " Mode  :character   Mode  :character   Mode  :character   Mode  :character  \n",
       "                                                                            \n",
       "                                                                            \n",
       "                                                                            \n",
       "  user_rt_id          user_rt           retweet_id          reply_to        \n",
       " Length:252437      Length:252437      Length:252437      Length:252437     \n",
       " Class :character   Class :character   Class :character   Class :character  \n",
       " Mode  :character   Mode  :character   Mode  :character   Mode  :character  \n",
       "                                                                            \n",
       "                                                                            \n",
       "                                                                            \n",
       " retweet_date        translate          trans_src          trans_dest       \n",
       " Length:252437      Length:252437      Length:252437      Length:252437     \n",
       " Class :character   Class :character   Class :character   Class :character  \n",
       " Mode  :character   Mode  :character   Mode  :character   Mode  :character  \n",
       "                                                                            \n",
       "                                                                            \n",
       "                                                                            \n",
       "   sentiment.Raiva    sentiment.Antecipação    sentiment.Nojo       sentiment.Medo      sentiment.Alegria   sentiment.Tristeza    sentiment.Surpesa   sentiment.Confiança  sentiment.Negativo   sentiment.Positivo    sentiment.Neutro  \n",
       " Min.   : 0.000000    Min.   :0.000000     Min.   : 0.00000     Min.   : 0.000000    Min.   : 0.000000    Min.   : 0.000000    Min.   :0.000000     Min.   : 0.000000    Mode :logical        Mode :logical        Mode :logical        \n",
       " 1st Qu.: 0.000000    1st Qu.:0.000000     1st Qu.: 0.00000     1st Qu.: 0.000000    1st Qu.: 0.000000    1st Qu.: 0.000000    1st Qu.:0.000000     1st Qu.: 0.000000    FALSE:126988         FALSE:198575         FALSE:179311         \n",
       " Median : 0.000000    Median :0.000000     Median : 0.00000     Median : 0.000000    Median : 0.000000    Median : 0.000000    Median :0.000000     Median : 0.000000    TRUE :125449         TRUE :53862          TRUE :73126          \n",
       " Mean   : 0.611816    Mean   :0.204855     Mean   : 0.31211     Mean   : 0.490887    Mean   : 0.142202    Mean   : 0.423048    Mean   :0.136291     Mean   : 0.540186    NA                   NA                   NA                   \n",
       " 3rd Qu.: 1.000000    3rd Qu.:0.000000     3rd Qu.: 0.00000     3rd Qu.: 1.000000    3rd Qu.: 0.000000    3rd Qu.: 0.000000    3rd Qu.:0.000000     3rd Qu.: 1.000000    NA                   NA                   NA                   \n",
       " Max.   :10.000000    Max.   :6.000000     Max.   :10.00000     Max.   :13.000000    Max.   :10.000000    Max.   :10.000000    Max.   :5.000000     Max.   :12.000000    NA                   NA                   NA                   "
      ]
     },
     "metadata": {},
     "output_type": "display_data"
    }
   ],
   "source": [
    "summary(tweets)"
   ]
  },
  {
   "cell_type": "code",
   "execution_count": 12,
   "id": "8a7cf2b7",
   "metadata": {},
   "outputs": [],
   "source": [
    "write.csv(tweets, \"classified_tweets_r.csv\", row.names = FALSE)"
   ]
  },
  {
   "cell_type": "code",
   "execution_count": null,
   "id": "e5a05d49",
   "metadata": {},
   "outputs": [],
   "source": []
  }
 ],
 "metadata": {
  "interpreter": {
   "hash": "aa4a5ab3c9b77631ff16cbf8d29c1c73750467f7092c3979aed8ec93cf5ec472"
  },
  "kernelspec": {
   "display_name": "R",
   "language": "R",
   "name": "ir"
  },
  "language_info": {
   "codemirror_mode": "r",
   "file_extension": ".r",
   "mimetype": "text/x-r-source",
   "name": "R",
   "pygments_lexer": "r",
   "version": "4.1.1"
  }
 },
 "nbformat": 4,
 "nbformat_minor": 5
}
